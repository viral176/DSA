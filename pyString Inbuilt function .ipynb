{
 "cells": [
  {
   "cell_type": "code",
   "execution_count": 4,
   "id": "b526bf83-249c-4690-a7aa-3261e9016572",
   "metadata": {},
   "outputs": [],
   "source": [
    "v = 'viral'"
   ]
  },
  {
   "cell_type": "code",
   "execution_count": 7,
   "id": "195b0f65-bcd4-4a1d-a7ae-dc1b7b3bb8e6",
   "metadata": {},
   "outputs": [
    {
     "data": {
      "text/plain": [
       "5"
      ]
     },
     "execution_count": 7,
     "metadata": {},
     "output_type": "execute_result"
    }
   ],
   "source": [
    "len(v)\n"
   ]
  },
  {
   "cell_type": "code",
   "execution_count": 13,
   "id": "7dab9b56-a114-4b84-b8a4-a72f30300b40",
   "metadata": {},
   "outputs": [
    {
     "data": {
      "text/plain": [
       "-1"
      ]
     },
     "execution_count": 13,
     "metadata": {},
     "output_type": "execute_result"
    }
   ],
   "source": [
    "v.find('z')"
   ]
  },
  {
   "cell_type": "code",
   "execution_count": 16,
   "id": "27ea141c-6421-42ac-ac98-51c8e8e03bca",
   "metadata": {},
   "outputs": [
    {
     "data": {
      "text/plain": [
       "1"
      ]
     },
     "execution_count": 16,
     "metadata": {},
     "output_type": "execute_result"
    }
   ],
   "source": [
    "v.count('v')"
   ]
  },
  {
   "cell_type": "code",
   "execution_count": 17,
   "id": "f49f88d2-0495-44a3-b632-cb6795b00b6c",
   "metadata": {},
   "outputs": [
    {
     "data": {
      "text/plain": [
       "'viral'"
      ]
     },
     "execution_count": 17,
     "metadata": {},
     "output_type": "execute_result"
    }
   ],
   "source": [
    "v\n"
   ]
  },
  {
   "cell_type": "code",
   "execution_count": 18,
   "id": "d3f8207f-5a50-445c-8158-263697bc640c",
   "metadata": {},
   "outputs": [
    {
     "data": {
      "text/plain": [
       "'viral'"
      ]
     },
     "execution_count": 18,
     "metadata": {},
     "output_type": "execute_result"
    }
   ],
   "source": [
    "v"
   ]
  },
  {
   "cell_type": "code",
   "execution_count": 41,
   "id": "a2f6feba-09a8-48cc-acd7-ea9acbbac908",
   "metadata": {},
   "outputs": [],
   "source": [
    "v = v.upper()\n",
    "\n",
    "\n"
   ]
  },
  {
   "cell_type": "code",
   "execution_count": 25,
   "id": "185d11b1-b813-486b-9362-b0ba7d96cd60",
   "metadata": {},
   "outputs": [
    {
     "data": {
      "text/plain": [
       "<function str.upper()>"
      ]
     },
     "execution_count": 25,
     "metadata": {},
     "output_type": "execute_result"
    }
   ],
   "source": [
    "v.upper"
   ]
  },
  {
   "cell_type": "code",
   "execution_count": 27,
   "id": "1bbd2850-855d-4ab1-bfbe-486ec7a44c81",
   "metadata": {},
   "outputs": [
    {
     "data": {
      "text/plain": [
       "'VIRAL'"
      ]
     },
     "execution_count": 27,
     "metadata": {},
     "output_type": "execute_result"
    }
   ],
   "source": [
    "v.upper()\n",
    "\n",
    "\n"
   ]
  },
  {
   "cell_type": "code",
   "execution_count": 42,
   "id": "e2b0383b-e3f7-4398-9c36-6c46726c5b4f",
   "metadata": {},
   "outputs": [
    {
     "data": {
      "text/plain": [
       "'VIRAL'"
      ]
     },
     "execution_count": 42,
     "metadata": {},
     "output_type": "execute_result"
    }
   ],
   "source": [
    "v"
   ]
  },
  {
   "cell_type": "code",
   "execution_count": 31,
   "id": "b2e7c6ac-34d8-40e0-9b7b-de4ff4e7c39a",
   "metadata": {},
   "outputs": [],
   "source": [
    "a= 'VIRAL'"
   ]
  },
  {
   "cell_type": "code",
   "execution_count": 34,
   "id": "ae4573d0-2e29-49ce-8ab0-2aa3c8d4599f",
   "metadata": {},
   "outputs": [
    {
     "data": {
      "text/plain": [
       "'VIRAL'"
      ]
     },
     "execution_count": 34,
     "metadata": {},
     "output_type": "execute_result"
    }
   ],
   "source": [
    "a"
   ]
  },
  {
   "cell_type": "code",
   "execution_count": 37,
   "id": "cf603f6c-8225-4e51-a8f0-9ae15c920312",
   "metadata": {},
   "outputs": [],
   "source": [
    "a = a.lower()"
   ]
  },
  {
   "cell_type": "code",
   "execution_count": 43,
   "id": "3e12a52a-4631-4bb3-a9d7-3c1cbbba9076",
   "metadata": {},
   "outputs": [
    {
     "data": {
      "text/plain": [
       "'viral'"
      ]
     },
     "execution_count": 43,
     "metadata": {},
     "output_type": "execute_result"
    }
   ],
   "source": [
    "a"
   ]
  },
  {
   "cell_type": "code",
   "execution_count": 46,
   "id": "01c08f4e-b6a6-4db9-9f5c-079143657e96",
   "metadata": {},
   "outputs": [
    {
     "data": {
      "text/plain": [
       "'Viral'"
      ]
     },
     "execution_count": 46,
     "metadata": {},
     "output_type": "execute_result"
    }
   ],
   "source": [
    "a.title()"
   ]
  },
  {
   "cell_type": "code",
   "execution_count": 49,
   "id": "138e959f-b01b-4a5c-bab2-396c76e7822a",
   "metadata": {},
   "outputs": [],
   "source": [
    "x = 'my name is dark knight'"
   ]
  },
  {
   "cell_type": "code",
   "execution_count": 52,
   "id": "ceccad9f-5b02-421e-82a5-5011da80692b",
   "metadata": {},
   "outputs": [
    {
     "data": {
      "text/plain": [
       "'My name is dark knight'"
      ]
     },
     "execution_count": 52,
     "metadata": {},
     "output_type": "execute_result"
    }
   ],
   "source": [
    "x.capitalize()"
   ]
  },
  {
   "cell_type": "code",
   "execution_count": 54,
   "id": "56cdd222-87c6-4763-9e0f-3c41b870cee8",
   "metadata": {},
   "outputs": [
    {
     "data": {
      "text/plain": [
       "'My Name Is Dark Knight'"
      ]
     },
     "execution_count": 54,
     "metadata": {},
     "output_type": "execute_result"
    }
   ],
   "source": [
    "x.title()"
   ]
  },
  {
   "cell_type": "code",
   "execution_count": null,
   "id": "df8d7779-ebf9-44c7-bad2-a3aeff402b94",
   "metadata": {},
   "outputs": [],
   "source": []
  },
  {
   "cell_type": "code",
   "execution_count": null,
   "id": "5e93a237-32c3-4686-a7f8-bb0e61f4308e",
   "metadata": {},
   "outputs": [],
   "source": []
  }
 ],
 "metadata": {
  "kernelspec": {
   "display_name": "Python 3 (ipykernel)",
   "language": "python",
   "name": "python3"
  },
  "language_info": {
   "codemirror_mode": {
    "name": "ipython",
    "version": 3
   },
   "file_extension": ".py",
   "mimetype": "text/x-python",
   "name": "python",
   "nbconvert_exporter": "python",
   "pygments_lexer": "ipython3",
   "version": "3.13.2"
  }
 },
 "nbformat": 4,
 "nbformat_minor": 5
}

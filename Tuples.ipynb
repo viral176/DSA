{
 "cells": [
  {
   "cell_type": "code",
   "execution_count": 2,
   "id": "bfd4f7d0-6807-4071-a8a7-46ce38cfe0e4",
   "metadata": {},
   "outputs": [],
   "source": [
    "#tuples are basically immutable entity"
   ]
  },
  {
   "cell_type": "code",
   "execution_count": 7,
   "id": "24f2303a-5bac-47ae-b52e-aa2b3f885c1b",
   "metadata": {},
   "outputs": [],
   "source": [
    "t = (1,2,3,'darkKnhight')\n"
   ]
  },
  {
   "cell_type": "code",
   "execution_count": 8,
   "id": "ef4a65f3-974f-4929-9f42-ea693410b991",
   "metadata": {},
   "outputs": [],
   "source": [
    "l=[4,5,6,'bhindi']"
   ]
  },
  {
   "cell_type": "code",
   "execution_count": 9,
   "id": "d898a3d6-bbe8-4aaa-a6ee-f09b17dbc8b1",
   "metadata": {},
   "outputs": [
    {
     "data": {
      "text/plain": [
       "(1, 2, 3, 'darkKnhight')"
      ]
     },
     "execution_count": 9,
     "metadata": {},
     "output_type": "execute_result"
    }
   ],
   "source": [
    "t"
   ]
  },
  {
   "cell_type": "code",
   "execution_count": 10,
   "id": "97722dd7-4b13-4f1b-8c09-77d04c16160e",
   "metadata": {},
   "outputs": [
    {
     "data": {
      "text/plain": [
       "[4, 5, 6, 'bhindi']"
      ]
     },
     "execution_count": 10,
     "metadata": {},
     "output_type": "execute_result"
    }
   ],
   "source": [
    "l"
   ]
  },
  {
   "cell_type": "code",
   "execution_count": 12,
   "id": "ce0d9f69-e0b5-4076-8c39-ba9bd1d0c02f",
   "metadata": {},
   "outputs": [
    {
     "data": {
      "text/plain": [
       "(4, 5, 6, 'bhindi')"
      ]
     },
     "execution_count": 12,
     "metadata": {},
     "output_type": "execute_result"
    }
   ],
   "source": [
    "tuple(l)\n"
   ]
  },
  {
   "cell_type": "code",
   "execution_count": 16,
   "id": "54fbac74-2988-45b3-92f5-95ec92955265",
   "metadata": {},
   "outputs": [
    {
     "data": {
      "text/plain": [
       "[4, 5, 6, 'bhindi']"
      ]
     },
     "execution_count": 16,
     "metadata": {},
     "output_type": "execute_result"
    }
   ],
   "source": [
    "l"
   ]
  },
  {
   "cell_type": "code",
   "execution_count": 17,
   "id": "11481fdf-e21a-4875-b4bb-07e172ca4f26",
   "metadata": {},
   "outputs": [
    {
     "data": {
      "text/plain": [
       "(1, 2, 3, 'darkKnhight')"
      ]
     },
     "execution_count": 17,
     "metadata": {},
     "output_type": "execute_result"
    }
   ],
   "source": [
    "t"
   ]
  },
  {
   "cell_type": "code",
   "execution_count": 19,
   "id": "64b96687-b69e-43f6-a35a-a7fbc43f68d4",
   "metadata": {},
   "outputs": [
    {
     "ename": "AttributeError",
     "evalue": "'tuple' object has no attribute 'append'",
     "output_type": "error",
     "traceback": [
      "\u001b[1;31m---------------------------------------------------------------------------\u001b[0m",
      "\u001b[1;31mAttributeError\u001b[0m                            Traceback (most recent call last)",
      "Cell \u001b[1;32mIn[19], line 1\u001b[0m\n\u001b[1;32m----> 1\u001b[0m \u001b[43mt\u001b[49m\u001b[38;5;241;43m.\u001b[39;49m\u001b[43mappend\u001b[49m(\u001b[38;5;241m4\u001b[39m)\n",
      "\u001b[1;31mAttributeError\u001b[0m: 'tuple' object has no attribute 'append'"
     ]
    }
   ],
   "source": [
    "t.append(4)"
   ]
  },
  {
   "cell_type": "code",
   "execution_count": 20,
   "id": "2a40156c-bd00-49a8-9bff-3aef975dc56b",
   "metadata": {},
   "outputs": [],
   "source": [
    "t2 = (1,2,3,4,5,6,4,3,2,54,64,3,2,4,62,3,4)"
   ]
  },
  {
   "cell_type": "code",
   "execution_count": 21,
   "id": "35bca3ba-8ca3-4e85-9988-8e5a6a798d6a",
   "metadata": {},
   "outputs": [
    {
     "data": {
      "text/plain": [
       "4"
      ]
     },
     "execution_count": 21,
     "metadata": {},
     "output_type": "execute_result"
    }
   ],
   "source": [
    "t2.count(3)"
   ]
  },
  {
   "cell_type": "code",
   "execution_count": 22,
   "id": "fa6cd8da-b33b-4d7b-a324-a7a178ba4e99",
   "metadata": {},
   "outputs": [
    {
     "ename": "AttributeError",
     "evalue": "'tuple' object has no attribute 'sort'",
     "output_type": "error",
     "traceback": [
      "\u001b[1;31m---------------------------------------------------------------------------\u001b[0m",
      "\u001b[1;31mAttributeError\u001b[0m                            Traceback (most recent call last)",
      "Cell \u001b[1;32mIn[22], line 1\u001b[0m\n\u001b[1;32m----> 1\u001b[0m \u001b[43mt2\u001b[49m\u001b[38;5;241;43m.\u001b[39;49m\u001b[43msort\u001b[49m()\n",
      "\u001b[1;31mAttributeError\u001b[0m: 'tuple' object has no attribute 'sort'"
     ]
    }
   ],
   "source": [
    "t2.sort()"
   ]
  },
  {
   "cell_type": "code",
   "execution_count": 23,
   "id": "f933571a-935c-4e3d-a9aa-778fbdedf8a8",
   "metadata": {},
   "outputs": [
    {
     "data": {
      "text/plain": [
       "64"
      ]
     },
     "execution_count": 23,
     "metadata": {},
     "output_type": "execute_result"
    }
   ],
   "source": [
    "max(t2)"
   ]
  },
  {
   "cell_type": "code",
   "execution_count": 24,
   "id": "d1bd7c7f-f6b5-4672-b724-c2576832d21b",
   "metadata": {},
   "outputs": [
    {
     "data": {
      "text/plain": [
       "1"
      ]
     },
     "execution_count": 24,
     "metadata": {},
     "output_type": "execute_result"
    }
   ],
   "source": [
    "min(t2)"
   ]
  },
  {
   "cell_type": "code",
   "execution_count": 25,
   "id": "826054c4-fe68-4df9-a427-a55556d14d33",
   "metadata": {},
   "outputs": [
    {
     "data": {
      "text/plain": [
       "17"
      ]
     },
     "execution_count": 25,
     "metadata": {},
     "output_type": "execute_result"
    }
   ],
   "source": [
    "len(t2)"
   ]
  },
  {
   "cell_type": "code",
   "execution_count": null,
   "id": "5984a792-dec5-473e-9525-f681dba3b3ac",
   "metadata": {},
   "outputs": [],
   "source": []
  }
 ],
 "metadata": {
  "kernelspec": {
   "display_name": "Python 3 (ipykernel)",
   "language": "python",
   "name": "python3"
  },
  "language_info": {
   "codemirror_mode": {
    "name": "ipython",
    "version": 3
   },
   "file_extension": ".py",
   "mimetype": "text/x-python",
   "name": "python",
   "nbconvert_exporter": "python",
   "pygments_lexer": "ipython3",
   "version": "3.13.2"
  }
 },
 "nbformat": 4,
 "nbformat_minor": 5
}

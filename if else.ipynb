{
 "cells": [
  {
   "cell_type": "code",
   "execution_count": 13,
   "id": "3d448c70-ad02-4c32-a9b2-2e73b3888078",
   "metadata": {},
   "outputs": [],
   "source": [
    "a=1200"
   ]
  },
  {
   "cell_type": "code",
   "execution_count": 26,
   "id": "c008571a-f1c5-47f2-9eee-01d2056558e2",
   "metadata": {},
   "outputs": [
    {
     "name": "stdin",
     "output_type": "stream",
     "text": [
      "Enter the price 900\n"
     ]
    },
    {
     "name": "stdout",
     "output_type": "stream",
     "text": [
      "Buy it\n"
     ]
    }
   ],
   "source": [
    "money = 1000\n",
    "price = a\n",
    "a=int(input(\"Enter the price\"))\n",
    "if a <= money:\n",
    "    print(\"Buy it\")\n",
    "else:\n",
    "    print(\"Not enough money\")"
   ]
  },
  {
   "cell_type": "code",
   "execution_count": 59,
   "id": "587ec24e-a61f-48d3-9c00-7c92ef08c249",
   "metadata": {},
   "outputs": [
    {
     "name": "stdin",
     "output_type": "stream",
     "text": [
      "Enter the price 10001\n"
     ]
    },
    {
     "name": "stdout",
     "output_type": "stream",
     "text": [
      "Not enough money\n"
     ]
    }
   ],
   "source": [
    "money = 1000\n",
    "price = a\n",
    "a=int(input(\"Enter the price\"))\n",
    "if a <= 300:\n",
    "    print(\"Buy tshirt\")\n",
    "elif price <= 1000:\n",
    "    print(\"i have to buy shirt\")\n",
    "else:\n",
    "    print(\"Not enough money\")"
   ]
  },
  {
   "cell_type": "code",
   "execution_count": null,
   "id": "126504c7-f87d-451f-ac4b-1bd6fddd462f",
   "metadata": {},
   "outputs": [],
   "source": []
  }
 ],
 "metadata": {
  "kernelspec": {
   "display_name": "Python 3 (ipykernel)",
   "language": "python",
   "name": "python3"
  },
  "language_info": {
   "codemirror_mode": {
    "name": "ipython",
    "version": 3
   },
   "file_extension": ".py",
   "mimetype": "text/x-python",
   "name": "python",
   "nbconvert_exporter": "python",
   "pygments_lexer": "ipython3",
   "version": "3.13.2"
  }
 },
 "nbformat": 4,
 "nbformat_minor": 5
}

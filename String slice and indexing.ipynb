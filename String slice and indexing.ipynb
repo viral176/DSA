{
 "cells": [
  {
   "cell_type": "code",
   "execution_count": 1,
   "id": "998312bc-3a5a-46dd-a3de-30bbb11d089a",
   "metadata": {},
   "outputs": [],
   "source": [
    "x = 'dark knight'"
   ]
  },
  {
   "cell_type": "code",
   "execution_count": 4,
   "id": "440397d5-bdca-4efc-9989-28f775d3835f",
   "metadata": {},
   "outputs": [
    {
     "data": {
      "text/plain": [
       "' '"
      ]
     },
     "execution_count": 4,
     "metadata": {},
     "output_type": "execute_result"
    }
   ],
   "source": [
    "x[4]"
   ]
  },
  {
   "cell_type": "code",
   "execution_count": 5,
   "id": "6ab7f60a-dfa3-4fb3-880b-5e2e8efdb16f",
   "metadata": {},
   "outputs": [
    {
     "data": {
      "text/plain": [
       "'n'"
      ]
     },
     "execution_count": 5,
     "metadata": {},
     "output_type": "execute_result"
    }
   ],
   "source": [
    "x[6]"
   ]
  },
  {
   "cell_type": "code",
   "execution_count": 6,
   "id": "4538a52f-f47a-4350-84c7-2a0747fb9295",
   "metadata": {},
   "outputs": [
    {
     "data": {
      "text/plain": [
       "'i'"
      ]
     },
     "execution_count": 6,
     "metadata": {},
     "output_type": "execute_result"
    }
   ],
   "source": [
    "x[-4]"
   ]
  },
  {
   "cell_type": "code",
   "execution_count": 7,
   "id": "b01e95e1-e69a-4de0-95a2-2e4d61f15f73",
   "metadata": {},
   "outputs": [
    {
     "data": {
      "text/plain": [
       "'dark knight'"
      ]
     },
     "execution_count": 7,
     "metadata": {},
     "output_type": "execute_result"
    }
   ],
   "source": [
    "x"
   ]
  },
  {
   "cell_type": "code",
   "execution_count": 8,
   "id": "8293ee33-a20f-420a-a75c-20088f0cf582",
   "metadata": {},
   "outputs": [
    {
     "data": {
      "text/plain": [
       "'dark knight'"
      ]
     },
     "execution_count": 8,
     "metadata": {},
     "output_type": "execute_result"
    }
   ],
   "source": [
    "x"
   ]
  },
  {
   "cell_type": "code",
   "execution_count": 9,
   "id": "3c9358b3-ebd3-4863-8e7e-382ba4f1601c",
   "metadata": {},
   "outputs": [
    {
     "data": {
      "text/plain": [
       "'dark'"
      ]
     },
     "execution_count": 9,
     "metadata": {},
     "output_type": "execute_result"
    }
   ],
   "source": [
    "x[0:4]"
   ]
  },
  {
   "cell_type": "code",
   "execution_count": 10,
   "id": "63c31222-45e7-4af2-b891-a4671dc47f22",
   "metadata": {},
   "outputs": [
    {
     "ename": "AttributeError",
     "evalue": "'str' object has no attribute 'len'",
     "output_type": "error",
     "traceback": [
      "\u001b[1;31m---------------------------------------------------------------------------\u001b[0m",
      "\u001b[1;31mAttributeError\u001b[0m                            Traceback (most recent call last)",
      "Cell \u001b[1;32mIn[10], line 1\u001b[0m\n\u001b[1;32m----> 1\u001b[0m \u001b[43mx\u001b[49m\u001b[38;5;241;43m.\u001b[39;49m\u001b[43mlen\u001b[49m()\n",
      "\u001b[1;31mAttributeError\u001b[0m: 'str' object has no attribute 'len'"
     ]
    }
   ],
   "source": [
    "x.len()"
   ]
  },
  {
   "cell_type": "code",
   "execution_count": 11,
   "id": "a584deb0-da33-4e6b-afc0-b9813424d3a8",
   "metadata": {},
   "outputs": [
    {
     "data": {
      "text/plain": [
       "11"
      ]
     },
     "execution_count": 11,
     "metadata": {},
     "output_type": "execute_result"
    }
   ],
   "source": [
    "len(x)"
   ]
  },
  {
   "cell_type": "code",
   "execution_count": 13,
   "id": "1a711f00-7980-48f1-b1e6-fa17bbf48846",
   "metadata": {},
   "outputs": [
    {
     "data": {
      "text/plain": [
       "'dr ngt'"
      ]
     },
     "execution_count": 13,
     "metadata": {},
     "output_type": "execute_result"
    }
   ],
   "source": [
    "x[0:11:2]"
   ]
  },
  {
   "cell_type": "code",
   "execution_count": 14,
   "id": "562fcc7c-9ee2-4d75-984b-ce610754e433",
   "metadata": {},
   "outputs": [
    {
     "ename": "NameError",
     "evalue": "name 'v' is not defined",
     "output_type": "error",
     "traceback": [
      "\u001b[1;31m---------------------------------------------------------------------------\u001b[0m",
      "\u001b[1;31mNameError\u001b[0m                                 Traceback (most recent call last)",
      "Cell \u001b[1;32mIn[14], line 1\u001b[0m\n\u001b[1;32m----> 1\u001b[0m \u001b[43mv\u001b[49m\n",
      "\u001b[1;31mNameError\u001b[0m: name 'v' is not defined"
     ]
    }
   ],
   "source": [
    "v"
   ]
  },
  {
   "cell_type": "code",
   "execution_count": 15,
   "id": "8b92a3f6-2073-4a65-8f4e-12e6fafd4d7b",
   "metadata": {},
   "outputs": [
    {
     "data": {
      "text/plain": [
       "'dark knight'"
      ]
     },
     "execution_count": 15,
     "metadata": {},
     "output_type": "execute_result"
    }
   ],
   "source": [
    "x"
   ]
  },
  {
   "cell_type": "code",
   "execution_count": 21,
   "id": "39a812ea-9ed9-47f0-a578-7d34289c89ef",
   "metadata": {},
   "outputs": [
    {
     "data": {
      "text/plain": [
       "'thgink krad'"
      ]
     },
     "execution_count": 21,
     "metadata": {},
     "output_type": "execute_result"
    }
   ],
   "source": [
    "x[11::-1]"
   ]
  },
  {
   "cell_type": "code",
   "execution_count": 23,
   "id": "6c672e8c-6cee-460e-b68a-27fdbed6149b",
   "metadata": {},
   "outputs": [
    {
     "data": {
      "text/plain": [
       "'dr ngt'"
      ]
     },
     "execution_count": 23,
     "metadata": {},
     "output_type": "execute_result"
    }
   ],
   "source": [
    "x[::2]"
   ]
  },
  {
   "cell_type": "code",
   "execution_count": null,
   "id": "8f7cab6e-e8d9-499b-8632-306737d826c9",
   "metadata": {},
   "outputs": [],
   "source": []
  }
 ],
 "metadata": {
  "kernelspec": {
   "display_name": "Python 3 (ipykernel)",
   "language": "python",
   "name": "python3"
  },
  "language_info": {
   "codemirror_mode": {
    "name": "ipython",
    "version": 3
   },
   "file_extension": ".py",
   "mimetype": "text/x-python",
   "name": "python",
   "nbconvert_exporter": "python",
   "pygments_lexer": "ipython3",
   "version": "3.13.2"
  }
 },
 "nbformat": 4,
 "nbformat_minor": 5
}

{
 "cells": [
  {
   "cell_type": "code",
   "execution_count": 2,
   "id": "772cc293-7c97-4fc9-95aa-bda812aab632",
   "metadata": {},
   "outputs": [],
   "source": [
    "l = [1,2,3,4,5]"
   ]
  },
  {
   "cell_type": "code",
   "execution_count": 3,
   "id": "dd532da5-9705-49ce-a36c-0bdc02235412",
   "metadata": {},
   "outputs": [
    {
     "data": {
      "text/plain": [
       "type"
      ]
     },
     "execution_count": 3,
     "metadata": {},
     "output_type": "execute_result"
    }
   ],
   "source": [
    "type"
   ]
  },
  {
   "cell_type": "code",
   "execution_count": 5,
   "id": "b870e5e9-50a8-441a-bdcf-4abfaff5089c",
   "metadata": {},
   "outputs": [
    {
     "data": {
      "text/plain": [
       "list"
      ]
     },
     "execution_count": 5,
     "metadata": {},
     "output_type": "execute_result"
    }
   ],
   "source": [
    "type(l)"
   ]
  },
  {
   "cell_type": "code",
   "execution_count": 6,
   "id": "ae386aa8-466e-4bd5-ba41-ee3270d06a49",
   "metadata": {},
   "outputs": [
    {
     "data": {
      "text/plain": [
       "[1, 2, 3, 4, 5]"
      ]
     },
     "execution_count": 6,
     "metadata": {},
     "output_type": "execute_result"
    }
   ],
   "source": [
    "l"
   ]
  },
  {
   "cell_type": "code",
   "execution_count": 7,
   "id": "aa5ef031-0d29-4127-a588-7ba4ee8598c0",
   "metadata": {},
   "outputs": [],
   "source": [
    "#IN LIST WE CAN SAVE ALL TYPE OF DATA"
   ]
  },
  {
   "cell_type": "code",
   "execution_count": 8,
   "id": "90d61b83-7b5d-4bc6-a9b8-cc22dd0f917f",
   "metadata": {},
   "outputs": [],
   "source": [
    "l1=[1,2.3,'viral',(6+7j)]"
   ]
  },
  {
   "cell_type": "code",
   "execution_count": 12,
   "id": "ba805e1b-5cf8-4d4d-997c-58ec4b93177f",
   "metadata": {},
   "outputs": [
    {
     "data": {
      "text/plain": [
       "[1, 2.3, 'viral', (6+7j)]"
      ]
     },
     "execution_count": 12,
     "metadata": {},
     "output_type": "execute_result"
    }
   ],
   "source": [
    "l1\n"
   ]
  },
  {
   "cell_type": "code",
   "execution_count": 14,
   "id": "9f677023-bb51-408d-8a94-8fb22844efeb",
   "metadata": {},
   "outputs": [
    {
     "data": {
      "text/plain": [
       "'viral'"
      ]
     },
     "execution_count": 14,
     "metadata": {},
     "output_type": "execute_result"
    }
   ],
   "source": [
    "l1[2]"
   ]
  },
  {
   "cell_type": "code",
   "execution_count": 17,
   "id": "d028a623-8977-4dd5-a258-21954eaf19a9",
   "metadata": {},
   "outputs": [
    {
     "data": {
      "text/plain": [
       "str"
      ]
     },
     "execution_count": 17,
     "metadata": {},
     "output_type": "execute_result"
    }
   ],
   "source": [
    "type(l1[2])"
   ]
  },
  {
   "cell_type": "code",
   "execution_count": 18,
   "id": "30ba9ce9-c91e-4d58-b15a-0906b31ecb7f",
   "metadata": {},
   "outputs": [
    {
     "data": {
      "text/plain": [
       "[1, 2.3, 'viral', (6+7j)]"
      ]
     },
     "execution_count": 18,
     "metadata": {},
     "output_type": "execute_result"
    }
   ],
   "source": [
    "l1"
   ]
  },
  {
   "cell_type": "code",
   "execution_count": 20,
   "id": "a5d890ab-5cbe-41e3-89b7-ea7ec367db5c",
   "metadata": {},
   "outputs": [],
   "source": [
    "l1[1] = 200"
   ]
  },
  {
   "cell_type": "code",
   "execution_count": 21,
   "id": "001c9856-ebaa-4205-b5ba-b5e6424d8c2c",
   "metadata": {},
   "outputs": [
    {
     "data": {
      "text/plain": [
       "[1, 200, 'viral', (6+7j)]"
      ]
     },
     "execution_count": 21,
     "metadata": {},
     "output_type": "execute_result"
    }
   ],
   "source": [
    "l1"
   ]
  },
  {
   "cell_type": "code",
   "execution_count": null,
   "id": "5633e84e-6ef8-440a-b898-911ce63b4acf",
   "metadata": {},
   "outputs": [],
   "source": [
    "#Mutable - Mutate means they can be change, we can add new values \n",
    "#Immutable - We can't change at any cost \n",
    "#Lists are mutable objects, we can change the value \n",
    "#Strings - Immutable "
   ]
  }
 ],
 "metadata": {
  "kernelspec": {
   "display_name": "Python 3 (ipykernel)",
   "language": "python",
   "name": "python3"
  },
  "language_info": {
   "codemirror_mode": {
    "name": "ipython",
    "version": 3
   },
   "file_extension": ".py",
   "mimetype": "text/x-python",
   "name": "python",
   "nbconvert_exporter": "python",
   "pygments_lexer": "ipython3",
   "version": "3.13.2"
  }
 },
 "nbformat": 4,
 "nbformat_minor": 5
}

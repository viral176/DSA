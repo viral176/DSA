{
 "cells": [
  {
   "cell_type": "code",
   "execution_count": 3,
   "id": "8cdcbea1-9812-409a-8835-432494a8bb58",
   "metadata": {},
   "outputs": [
    {
     "data": {
      "text/plain": [
       "dict"
      ]
     },
     "execution_count": 3,
     "metadata": {},
     "output_type": "execute_result"
    }
   ],
   "source": [
    "s = {}\n",
    "type(s)"
   ]
  },
  {
   "cell_type": "code",
   "execution_count": 5,
   "id": "022fbcb5-47d3-4e68-a2a2-1d822c9de9ba",
   "metadata": {},
   "outputs": [],
   "source": [
    "s1={1,2,3,4,3,2,3,4,2,4,23,2,43,4,2,3,5,'dark','knight'}"
   ]
  },
  {
   "cell_type": "code",
   "execution_count": 7,
   "id": "7ef44638-0770-4de6-a7dd-d003b387b7a8",
   "metadata": {},
   "outputs": [
    {
     "data": {
      "text/plain": [
       "{1, 2, 23, 3, 4, 43, 5, 'dark', 'knight'}"
      ]
     },
     "execution_count": 7,
     "metadata": {},
     "output_type": "execute_result"
    }
   ],
   "source": [
    "s1"
   ]
  },
  {
   "cell_type": "code",
   "execution_count": 8,
   "id": "5c80b8ab-8a89-453f-bd9f-b778ff0d39a5",
   "metadata": {},
   "outputs": [],
   "source": [
    "s1.add(100)"
   ]
  },
  {
   "cell_type": "code",
   "execution_count": 9,
   "id": "5a78cc76-1634-4011-8a3f-945a92e1c9d6",
   "metadata": {},
   "outputs": [
    {
     "data": {
      "text/plain": [
       "{1, 100, 2, 23, 3, 4, 43, 5, 'dark', 'knight'}"
      ]
     },
     "execution_count": 9,
     "metadata": {},
     "output_type": "execute_result"
    }
   ],
   "source": [
    "s1"
   ]
  },
  {
   "cell_type": "code",
   "execution_count": 10,
   "id": "e866ed49-dea9-4e43-a75e-ba7ee53aee31",
   "metadata": {},
   "outputs": [],
   "source": [
    "s1.add((121,2234,234,1342))"
   ]
  },
  {
   "cell_type": "code",
   "execution_count": 12,
   "id": "5ff53b98-f839-4b80-b6a4-883fe825a6d3",
   "metadata": {},
   "outputs": [
    {
     "data": {
      "text/plain": [
       "{(121, 2234, 234, 1342), 1, 100, 2, 23, 3, 4, 43, 5, 'dark', 'knight'}"
      ]
     },
     "execution_count": 12,
     "metadata": {},
     "output_type": "execute_result"
    }
   ],
   "source": [
    "s1"
   ]
  },
  {
   "cell_type": "code",
   "execution_count": 16,
   "id": "b1348a37-d61e-477a-953c-6573bcdf0a03",
   "metadata": {},
   "outputs": [],
   "source": [
    "s2 = {1,2,3,2,1,3,1,2}"
   ]
  },
  {
   "cell_type": "code",
   "execution_count": 17,
   "id": "28df00a8-9b2e-4f7d-8ec7-f05d87e236f9",
   "metadata": {},
   "outputs": [
    {
     "data": {
      "text/plain": [
       "{1, 2, 3}"
      ]
     },
     "execution_count": 17,
     "metadata": {},
     "output_type": "execute_result"
    }
   ],
   "source": [
    "s2"
   ]
  },
  {
   "cell_type": "code",
   "execution_count": 19,
   "id": "24a80bd8-0476-4200-9dd0-6ea20f0c888d",
   "metadata": {},
   "outputs": [],
   "source": [
    "s2.clear()"
   ]
  },
  {
   "cell_type": "code",
   "execution_count": 20,
   "id": "b0effca9-13b1-4527-941a-6ce36c39f118",
   "metadata": {},
   "outputs": [
    {
     "data": {
      "text/plain": [
       "set()"
      ]
     },
     "execution_count": 20,
     "metadata": {},
     "output_type": "execute_result"
    }
   ],
   "source": [
    "s2"
   ]
  },
  {
   "cell_type": "code",
   "execution_count": 21,
   "id": "6338af5b-114b-4527-bcda-a89a4af291b5",
   "metadata": {},
   "outputs": [],
   "source": [
    "l = [1,2,3,1,2,2,3,44,3,2,2,1,3,4]"
   ]
  },
  {
   "cell_type": "code",
   "execution_count": 25,
   "id": "53ca1a63-cf0a-4bad-8862-ed25259c94b6",
   "metadata": {},
   "outputs": [
    {
     "data": {
      "text/plain": [
       "{1, 2, 3, 4, 44}"
      ]
     },
     "execution_count": 25,
     "metadata": {},
     "output_type": "execute_result"
    }
   ],
   "source": [
    "set(l)\n"
   ]
  },
  {
   "cell_type": "code",
   "execution_count": 24,
   "id": "f4558563-5383-4e59-a174-09471c92285b",
   "metadata": {},
   "outputs": [
    {
     "data": {
      "text/plain": [
       "[1, 2, 3, 1, 2, 2, 3, 44, 3, 2, 2, 1, 3, 4]"
      ]
     },
     "execution_count": 24,
     "metadata": {},
     "output_type": "execute_result"
    }
   ],
   "source": [
    "l"
   ]
  },
  {
   "cell_type": "code",
   "execution_count": 27,
   "id": "b97fd15a-3e0e-432c-9b82-d144abfce971",
   "metadata": {},
   "outputs": [],
   "source": [
    "t = (1,2,1,2,4,2,2,4,3,5,6,7,8,98,7,6,7,8)"
   ]
  },
  {
   "cell_type": "code",
   "execution_count": 28,
   "id": "9ad6a0af-da0f-49c2-86a9-392ea881174e",
   "metadata": {},
   "outputs": [
    {
     "data": {
      "text/plain": [
       "{1, 2, 3, 4, 5, 6, 7, 8, 98}"
      ]
     },
     "execution_count": 28,
     "metadata": {},
     "output_type": "execute_result"
    }
   ],
   "source": [
    "set(t)"
   ]
  },
  {
   "cell_type": "code",
   "execution_count": 31,
   "id": "01511761-09bb-4129-88ea-2bdf7671e446",
   "metadata": {},
   "outputs": [
    {
     "data": {
      "text/plain": [
       "{(121, 2234, 234, 1342), 1, 100, 2, 23, 3, 4, 43, 5, 'dark', 'knight'}"
      ]
     },
     "execution_count": 31,
     "metadata": {},
     "output_type": "execute_result"
    }
   ],
   "source": [
    "s1"
   ]
  },
  {
   "cell_type": "code",
   "execution_count": 33,
   "id": "765f20e4-eb63-42b5-892b-7cb1547eaf43",
   "metadata": {},
   "outputs": [
    {
     "ename": "KeyError",
     "evalue": "100",
     "output_type": "error",
     "traceback": [
      "\u001b[1;31m---------------------------------------------------------------------------\u001b[0m",
      "\u001b[1;31mKeyError\u001b[0m                                  Traceback (most recent call last)",
      "Cell \u001b[1;32mIn[33], line 1\u001b[0m\n\u001b[1;32m----> 1\u001b[0m \u001b[43ms1\u001b[49m\u001b[38;5;241;43m.\u001b[39;49m\u001b[43mremove\u001b[49m\u001b[43m(\u001b[49m\u001b[38;5;241;43m100\u001b[39;49m\u001b[43m)\u001b[49m\n",
      "\u001b[1;31mKeyError\u001b[0m: 100"
     ]
    }
   ],
   "source": [
    "s1.remove(100)"
   ]
  },
  {
   "cell_type": "code",
   "execution_count": 34,
   "id": "3256c2af-41f9-457b-aecd-132b5c1038ed",
   "metadata": {},
   "outputs": [
    {
     "data": {
      "text/plain": [
       "{(121, 2234, 234, 1342), 1, 2, 23, 3, 4, 43, 5, 'dark', 'knight'}"
      ]
     },
     "execution_count": 34,
     "metadata": {},
     "output_type": "execute_result"
    }
   ],
   "source": [
    "s1"
   ]
  },
  {
   "cell_type": "code",
   "execution_count": 35,
   "id": "d040c8a8-bd6d-49b8-a164-005d29e81734",
   "metadata": {},
   "outputs": [],
   "source": [
    "s1.remove(2)"
   ]
  },
  {
   "cell_type": "code",
   "execution_count": 36,
   "id": "c462fefb-5733-4db9-aa07-ad8d9ef49e7e",
   "metadata": {},
   "outputs": [
    {
     "data": {
      "text/plain": [
       "{(121, 2234, 234, 1342), 1, 23, 3, 4, 43, 5, 'dark', 'knight'}"
      ]
     },
     "execution_count": 36,
     "metadata": {},
     "output_type": "execute_result"
    }
   ],
   "source": [
    "s1"
   ]
  },
  {
   "cell_type": "code",
   "execution_count": 37,
   "id": "636658d8-efc2-4a5d-8488-837b256b2be7",
   "metadata": {},
   "outputs": [],
   "source": [
    "s1.discard((121, 2234, 234, 1342))"
   ]
  },
  {
   "cell_type": "code",
   "execution_count": 38,
   "id": "6f59c305-86cd-4bc7-88d6-f6dea128a0bd",
   "metadata": {},
   "outputs": [
    {
     "data": {
      "text/plain": [
       "{1, 23, 3, 4, 43, 5, 'dark', 'knight'}"
      ]
     },
     "execution_count": 38,
     "metadata": {},
     "output_type": "execute_result"
    }
   ],
   "source": [
    "s1"
   ]
  },
  {
   "cell_type": "code",
   "execution_count": 39,
   "id": "41ddfc6b-6792-4f6a-b12f-16805a1c0824",
   "metadata": {},
   "outputs": [
    {
     "data": {
      "text/plain": [
       "1"
      ]
     },
     "execution_count": 39,
     "metadata": {},
     "output_type": "execute_result"
    }
   ],
   "source": [
    "s1.pop()"
   ]
  },
  {
   "cell_type": "code",
   "execution_count": 40,
   "id": "03ef994f-a615-41ba-9007-45e1d3f1e978",
   "metadata": {},
   "outputs": [
    {
     "data": {
      "text/plain": [
       "3"
      ]
     },
     "execution_count": 40,
     "metadata": {},
     "output_type": "execute_result"
    }
   ],
   "source": [
    "s1.pop()"
   ]
  },
  {
   "cell_type": "code",
   "execution_count": null,
   "id": "227cde83-c766-4396-82d0-f68071bc6297",
   "metadata": {},
   "outputs": [],
   "source": []
  }
 ],
 "metadata": {
  "kernelspec": {
   "display_name": "Python 3 (ipykernel)",
   "language": "python",
   "name": "python3"
  },
  "language_info": {
   "codemirror_mode": {
    "name": "ipython",
    "version": 3
   },
   "file_extension": ".py",
   "mimetype": "text/x-python",
   "name": "python",
   "nbconvert_exporter": "python",
   "pygments_lexer": "ipython3",
   "version": "3.13.2"
  }
 },
 "nbformat": 4,
 "nbformat_minor": 5
}

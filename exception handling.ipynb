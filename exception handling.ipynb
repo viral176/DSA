{
 "cells": [
  {
   "cell_type": "code",
   "execution_count": 1,
   "id": "073bfa36-1e4d-4bc6-9fa8-f2e88ab6ace9",
   "metadata": {},
   "outputs": [
    {
     "name": "stdin",
     "output_type": "stream",
     "text": [
      "enter the input number 0\n"
     ]
    },
    {
     "name": "stdout",
     "output_type": "stream",
     "text": [
      "this is wrong input\n"
     ]
    }
   ],
   "source": [
    "try:\n",
    "    a=int(input(\"enter the input number\"))\n",
    "    b= 7/a\n",
    "    print(b)\n",
    "except:\n",
    "    print(\"this is wrong input\")\n"
   ]
  }
 ],
 "metadata": {
  "kernelspec": {
   "display_name": "Python 3 (ipykernel)",
   "language": "python",
   "name": "python3"
  },
  "language_info": {
   "codemirror_mode": {
    "name": "ipython",
    "version": 3
   },
   "file_extension": ".py",
   "mimetype": "text/x-python",
   "name": "python",
   "nbconvert_exporter": "python",
   "pygments_lexer": "ipython3",
   "version": "3.13.2"
  }
 },
 "nbformat": 4,
 "nbformat_minor": 5
}

{
 "cells": [
  {
   "cell_type": "code",
   "execution_count": 7,
   "id": "191252af-628b-4c46-8cf1-68ed96c5377f",
   "metadata": {},
   "outputs": [],
   "source": [
    "a= 'darkKnight'"
   ]
  },
  {
   "cell_type": "code",
   "execution_count": 8,
   "id": "fa13b9aa-8f08-498f-8198-bdad9bf867bd",
   "metadata": {},
   "outputs": [
    {
     "name": "stdout",
     "output_type": "stream",
     "text": [
      "d\n",
      "a\n",
      "r\n",
      "k\n",
      "K\n",
      "n\n",
      "i\n",
      "g\n",
      "h\n",
      "t\n"
     ]
    }
   ],
   "source": [
    "for i in a:\n",
    "    print(i)"
   ]
  },
  {
   "cell_type": "code",
   "execution_count": 9,
   "id": "ceaac581-86e7-4706-95ef-892d53a0c2d9",
   "metadata": {},
   "outputs": [
    {
     "name": "stdout",
     "output_type": "stream",
     "text": [
      "D\n",
      "A\n",
      "R\n",
      "K\n",
      "K\n",
      "N\n",
      "I\n",
      "G\n",
      "H\n",
      "T\n"
     ]
    }
   ],
   "source": [
    "for i in a :\n",
    "    print(i.upper())"
   ]
  },
  {
   "cell_type": "code",
   "execution_count": 12,
   "id": "9a242897-2e12-404a-bcb0-538962034a32",
   "metadata": {},
   "outputs": [],
   "source": [
    "l=[1,2,3,4,5,2,3,4,]"
   ]
  },
  {
   "cell_type": "code",
   "execution_count": 15,
   "id": "ff84b1cc-e360-4900-8f1c-a4de017d2945",
   "metadata": {},
   "outputs": [
    {
     "name": "stdout",
     "output_type": "stream",
     "text": [
      "3\n",
      "4\n",
      "5\n",
      "6\n",
      "7\n",
      "4\n",
      "5\n",
      "6\n"
     ]
    }
   ],
   "source": [
    "for i in l:\n",
    "    print(i+2)"
   ]
  },
  {
   "cell_type": "code",
   "execution_count": 17,
   "id": "2a45758d-496b-4850-bd06-80a41b7b371f",
   "metadata": {},
   "outputs": [
    {
     "data": {
      "text/plain": [
       "[1, 2, 3, 4, 5, 2, 3, 4]"
      ]
     },
     "execution_count": 17,
     "metadata": {},
     "output_type": "execute_result"
    }
   ],
   "source": [
    "l"
   ]
  },
  {
   "cell_type": "code",
   "execution_count": 18,
   "id": "b536e616-bbb4-4c35-ae21-3cadf88580ec",
   "metadata": {},
   "outputs": [
    {
     "name": "stdout",
     "output_type": "stream",
     "text": [
      "2\n",
      "4\n",
      "2\n",
      "4\n"
     ]
    }
   ],
   "source": [
    "for i in l:\n",
    "    if i%2 == 0:\n",
    "        print(i)"
   ]
  },
  {
   "cell_type": "code",
   "execution_count": 22,
   "id": "0683e67c-6a3b-473b-8750-383f560beff5",
   "metadata": {},
   "outputs": [
    {
     "name": "stdout",
     "output_type": "stream",
     "text": [
      "[1, 3, 5, 3]\n"
     ]
    }
   ],
   "source": [
    "l1=[]\n",
    "for i in l:\n",
    "    if i % 2 != 0:\n",
    "        l1.append(i)\n",
    "print(l1)"
   ]
  },
  {
   "cell_type": "code",
   "execution_count": 24,
   "id": "7549f0e5-3b81-48e0-9113-f4afd2fa65fa",
   "metadata": {},
   "outputs": [
    {
     "data": {
      "text/plain": [
       "[1, 2, 3, 4, 5, 2, 3, 4]"
      ]
     },
     "execution_count": 24,
     "metadata": {},
     "output_type": "execute_result"
    }
   ],
   "source": [
    "l"
   ]
  },
  {
   "cell_type": "code",
   "execution_count": 26,
   "id": "428f41b6-9fd8-4f09-badb-9c6cdbc7ab14",
   "metadata": {},
   "outputs": [
    {
     "name": "stdout",
     "output_type": "stream",
     "text": [
      "1\n",
      "2\n",
      "3\n",
      "4\n",
      "5\n"
     ]
    }
   ],
   "source": [
    "for i in l:\n",
    "    print(i)\n",
    "    if i == 5:\n",
    "        break\n",
    "else :\n",
    "    print(\"loop is completed\")"
   ]
  },
  {
   "cell_type": "code",
   "execution_count": null,
   "id": "2814d126-c0a5-4e87-a14a-bc31efc833d5",
   "metadata": {},
   "outputs": [],
   "source": []
  },
  {
   "cell_type": "code",
   "execution_count": 27,
   "id": "d79665b8-8634-430c-8b95-a98787f611e9",
   "metadata": {},
   "outputs": [
    {
     "data": {
      "text/plain": [
       "[1, 2, 3, 4, 5, 2, 3, 4]"
      ]
     },
     "execution_count": 27,
     "metadata": {},
     "output_type": "execute_result"
    }
   ],
   "source": [
    "l"
   ]
  },
  {
   "cell_type": "code",
   "execution_count": 30,
   "id": "b6f4f841-6659-4ce8-8b81-b67472865c49",
   "metadata": {},
   "outputs": [
    {
     "name": "stdout",
     "output_type": "stream",
     "text": [
      "24\n"
     ]
    }
   ],
   "source": [
    "b=0\n",
    "for i in l:\n",
    "    b = b+i\n",
    "print(b)"
   ]
  },
  {
   "cell_type": "code",
   "execution_count": 40,
   "id": "6b9c356e-83a4-45ad-90dc-e7fb05b2675b",
   "metadata": {},
   "outputs": [],
   "source": [
    "l2 = [1, 3, 4, 10, 1000 , 'dark','knight',True,False]"
   ]
  },
  {
   "cell_type": "code",
   "execution_count": 42,
   "id": "78338c81-6fa4-45d5-b3ae-c5115627b7e2",
   "metadata": {},
   "outputs": [
    {
     "name": "stdout",
     "output_type": "stream",
     "text": [
      "[1, 3, 4, 10, 1000]\n",
      "['dark', 'knight']\n",
      "[True, False]\n"
     ]
    }
   ],
   "source": [
    "l_int=[]\n",
    "l_str = []\n",
    "l_bool =[]\n",
    "for i in l2:\n",
    "    if type(i)==int:\n",
    "        l_int.append(i)\n",
    "    if type(i)==str:\n",
    "        l_str.append(i)\n",
    "    if type(i)==bool:\n",
    "        l_bool.append(i)\n",
    "\n",
    "print(l_int)\n",
    "print(l_str)\n",
    "print(l_bool)"
   ]
  },
  {
   "cell_type": "code",
   "execution_count": null,
   "id": "b03fd8eb-14f5-4fe5-b2fc-e5216109498b",
   "metadata": {},
   "outputs": [],
   "source": []
  },
  {
   "cell_type": "code",
   "execution_count": 43,
   "id": "06a92759-3b0c-4110-8154-278582dea239",
   "metadata": {},
   "outputs": [],
   "source": [
    "d1 = {'name' : 'viral', 'number' : '1234567890', 'hobby' : ['cricket','chess','coding']}\n",
    "\n"
   ]
  },
  {
   "cell_type": "code",
   "execution_count": 46,
   "id": "425e6062-3f3c-4744-a0cb-275c1ddf4b81",
   "metadata": {},
   "outputs": [
    {
     "data": {
      "text/plain": [
       "{'name': 'viral',\n",
       " 'number': '1234567890',\n",
       " 'hobby': ['cricket', 'chess', 'coding']}"
      ]
     },
     "execution_count": 46,
     "metadata": {},
     "output_type": "execute_result"
    }
   ],
   "source": [
    "d1"
   ]
  },
  {
   "cell_type": "code",
   "execution_count": 53,
   "id": "05957569-b53e-4571-b80c-d1ae7ce9d5dc",
   "metadata": {},
   "outputs": [
    {
     "name": "stdout",
     "output_type": "stream",
     "text": [
      "('name', 'viral')\n",
      "('number', '1234567890')\n",
      "('hobby', ['cricket', 'chess', 'coding'])\n"
     ]
    }
   ],
   "source": [
    "for i in d1.items():\n",
    "    print(i)"
   ]
  },
  {
   "cell_type": "code",
   "execution_count": 55,
   "id": "029e4e63-48d9-4660-beca-d8be7dcf92da",
   "metadata": {},
   "outputs": [
    {
     "name": "stdout",
     "output_type": "stream",
     "text": [
      "name\n",
      "number\n",
      "hobby\n"
     ]
    }
   ],
   "source": [
    "for i in d1.keys():\n",
    "    print(i)"
   ]
  },
  {
   "cell_type": "code",
   "execution_count": 58,
   "id": "aaa451d6-c9a6-4fa9-aea0-eb4a1f099d5d",
   "metadata": {},
   "outputs": [
    {
     "name": "stdout",
     "output_type": "stream",
     "text": [
      "['cricket', 'chess', 'coding']\n"
     ]
    }
   ],
   "source": [
    "for i in d1.values():\n",
    "    if type(i) == list:\n",
    "        print(i)\n",
    "   "
   ]
  }
 ],
 "metadata": {
  "kernelspec": {
   "display_name": "Python 3 (ipykernel)",
   "language": "python",
   "name": "python3"
  },
  "language_info": {
   "codemirror_mode": {
    "name": "ipython",
    "version": 3
   },
   "file_extension": ".py",
   "mimetype": "text/x-python",
   "name": "python",
   "nbconvert_exporter": "python",
   "pygments_lexer": "ipython3",
   "version": "3.13.2"
  }
 },
 "nbformat": 4,
 "nbformat_minor": 5
}

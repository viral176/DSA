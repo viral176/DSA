{
 "cells": [
  {
   "cell_type": "code",
   "execution_count": 13,
   "id": "de0960b0-1f04-44c3-963a-00c556140a97",
   "metadata": {},
   "outputs": [],
   "source": [
    "a= 1\n"
   ]
  },
  {
   "cell_type": "code",
   "execution_count": 10,
   "id": "115bee4c-63dd-46d7-b8f7-99314e375bc2",
   "metadata": {},
   "outputs": [
    {
     "name": "stdout",
     "output_type": "stream",
     "text": [
      "1\n"
     ]
    }
   ],
   "source": [
    "print (a)"
   ]
  },
  {
   "cell_type": "code",
   "execution_count": 14,
   "id": "68d99e33-6c58-4778-bbf2-69de21f6e643",
   "metadata": {},
   "outputs": [
    {
     "data": {
      "text/plain": [
       "int"
      ]
     },
     "execution_count": 14,
     "metadata": {},
     "output_type": "execute_result"
    }
   ],
   "source": [
    "\n",
    "type(a)"
   ]
  },
  {
   "cell_type": "code",
   "execution_count": 16,
   "id": "33bd15ef-98c2-41ee-ac64-6c6af68752af",
   "metadata": {},
   "outputs": [],
   "source": [
    "b = \"viral\"\n"
   ]
  },
  {
   "cell_type": "code",
   "execution_count": 17,
   "id": "53058262-6b7e-4ca5-aadf-a6b008b178a7",
   "metadata": {},
   "outputs": [
    {
     "data": {
      "text/plain": [
       "str"
      ]
     },
     "execution_count": 17,
     "metadata": {},
     "output_type": "execute_result"
    }
   ],
   "source": [
    "type(b)"
   ]
  },
  {
   "cell_type": "code",
   "execution_count": 22,
   "id": "2f8c6d6b-0e04-45c8-9425-004a396cfc8b",
   "metadata": {},
   "outputs": [],
   "source": [
    "c = (1,2,3,4)"
   ]
  },
  {
   "cell_type": "code",
   "execution_count": 23,
   "id": "e9a4cc17-a9a7-415e-b2d9-e1a74cd807f8",
   "metadata": {},
   "outputs": [
    {
     "data": {
      "text/plain": [
       "tuple"
      ]
     },
     "execution_count": 23,
     "metadata": {},
     "output_type": "execute_result"
    }
   ],
   "source": [
    "type(c)"
   ]
  },
  {
   "cell_type": "code",
   "execution_count": 1,
   "id": "074b8ca0-b92f-4576-babc-ec10d454ff79",
   "metadata": {},
   "outputs": [],
   "source": [
    "d = True"
   ]
  },
  {
   "cell_type": "code",
   "execution_count": 3,
   "id": "46ec56d1-c107-4cb6-8e2e-d63a87428a59",
   "metadata": {},
   "outputs": [
    {
     "data": {
      "text/plain": [
       "bool"
      ]
     },
     "execution_count": 3,
     "metadata": {},
     "output_type": "execute_result"
    }
   ],
   "source": [
    "type(d)"
   ]
  },
  {
   "cell_type": "code",
   "execution_count": null,
   "id": "064cfb94-47af-4fa1-a8d3-1ffc2927fc93",
   "metadata": {},
   "outputs": [],
   "source": []
  }
 ],
 "metadata": {
  "kernelspec": {
   "display_name": "Python 3 (ipykernel)",
   "language": "python",
   "name": "python3"
  },
  "language_info": {
   "codemirror_mode": {
    "name": "ipython",
    "version": 3
   },
   "file_extension": ".py",
   "mimetype": "text/x-python",
   "name": "python",
   "nbconvert_exporter": "python",
   "pygments_lexer": "ipython3",
   "version": "3.13.2"
  }
 },
 "nbformat": 4,
 "nbformat_minor": 5
}

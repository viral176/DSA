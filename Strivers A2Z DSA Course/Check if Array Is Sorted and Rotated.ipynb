{
 "cells": [
  {
   "cell_type": "code",
   "execution_count": 14,
   "id": "f71355cb-618d-4b39-8996-fb1cfd030761",
   "metadata": {},
   "outputs": [],
   "source": [
    "nums = [3,4,5,1,2]"
   ]
  },
  {
   "cell_type": "code",
   "execution_count": 15,
   "id": "4525df38-da7d-48aa-bb95-6e7a454fe170",
   "metadata": {},
   "outputs": [],
   "source": [
    "n = len(nums)"
   ]
  },
  {
   "cell_type": "code",
   "execution_count": 16,
   "id": "a5ecf13f-fff1-42ea-8483-916a264e576d",
   "metadata": {},
   "outputs": [],
   "source": [
    "if n==1:\n",
    "        print(True)"
   ]
  },
  {
   "cell_type": "code",
   "execution_count": 17,
   "id": "55c7f429-7c0c-435d-ba80-64ec544e1b62",
   "metadata": {},
   "outputs": [],
   "source": [
    "count = 0\n"
   ]
  },
  {
   "cell_type": "code",
   "execution_count": 18,
   "id": "a63a5c2a-b393-4cde-9d20-0f655be4b3f1",
   "metadata": {},
   "outputs": [
    {
     "name": "stdout",
     "output_type": "stream",
     "text": [
      "True\n"
     ]
    }
   ],
   "source": [
    "\n",
    "    for i in range(n):\n",
    "        if nums[i] > nums[(i+1)%n]:\n",
    "            count+=1\n",
    "    print(count<=1)"
   ]
  },
  {
   "cell_type": "code",
   "execution_count": null,
   "id": "b4e1f9c2-95e1-457c-97f8-5da3b06dcca6",
   "metadata": {},
   "outputs": [],
   "source": []
  },
  {
   "cell_type": "code",
   "execution_count": null,
   "id": "4ec3f197-61b3-48ac-adbe-ec1b05efc830",
   "metadata": {},
   "outputs": [],
   "source": []
  }
 ],
 "metadata": {
  "kernelspec": {
   "display_name": "Python 3 (ipykernel)",
   "language": "python",
   "name": "python3"
  },
  "language_info": {
   "codemirror_mode": {
    "name": "ipython",
    "version": 3
   },
   "file_extension": ".py",
   "mimetype": "text/x-python",
   "name": "python",
   "nbconvert_exporter": "python",
   "pygments_lexer": "ipython3",
   "version": "3.13.2"
  }
 },
 "nbformat": 4,
 "nbformat_minor": 5
}

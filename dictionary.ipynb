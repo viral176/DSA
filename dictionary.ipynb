{
 "cells": [
  {
   "cell_type": "code",
   "execution_count": 1,
   "id": "92f299b1-a830-4016-a922-903c0501ed0c",
   "metadata": {},
   "outputs": [],
   "source": [
    "d = {'viral' : 17,\n",
    "     'bhindi' : 18}"
   ]
  },
  {
   "cell_type": "code",
   "execution_count": 2,
   "id": "5a8fe223-2675-4e7c-a7a9-980e670f243c",
   "metadata": {},
   "outputs": [
    {
     "data": {
      "text/plain": [
       "dict"
      ]
     },
     "execution_count": 2,
     "metadata": {},
     "output_type": "execute_result"
    }
   ],
   "source": [
    "type(d)"
   ]
  },
  {
   "cell_type": "code",
   "execution_count": 6,
   "id": "f94ec351-b3e7-446a-8e0c-d5fb74c8a209",
   "metadata": {},
   "outputs": [],
   "source": [
    "d1 = {'name' : 'viral', 'number' : '1234567890', 'hobby' : ['cricket','chess','coding']}\n"
   ]
  },
  {
   "cell_type": "code",
   "execution_count": 8,
   "id": "3eba9740-9bc3-4db6-ac3a-f8f6f3adfbc6",
   "metadata": {},
   "outputs": [
    {
     "data": {
      "text/plain": [
       "{'name': 'viral',\n",
       " 'number': '1234567890',\n",
       " 'hobby': ['cricket', 'chess', 'coding']}"
      ]
     },
     "execution_count": 8,
     "metadata": {},
     "output_type": "execute_result"
    }
   ],
   "source": [
    "d1"
   ]
  },
  {
   "cell_type": "code",
   "execution_count": 10,
   "id": "4bbab10d-c34a-4a7b-b65e-7e268f9141ba",
   "metadata": {},
   "outputs": [
    {
     "data": {
      "text/plain": [
       "['cricket', 'chess', 'coding']"
      ]
     },
     "execution_count": 10,
     "metadata": {},
     "output_type": "execute_result"
    }
   ],
   "source": [
    "d1['hobby']"
   ]
  },
  {
   "cell_type": "code",
   "execution_count": 13,
   "id": "1bf140cf-33f6-4d4a-84d9-ad29d82c5e79",
   "metadata": {},
   "outputs": [
    {
     "data": {
      "text/plain": [
       "True"
      ]
     },
     "execution_count": 13,
     "metadata": {},
     "output_type": "execute_result"
    }
   ],
   "source": [
    "'cricket' in d1['hobby']\n"
   ]
  },
  {
   "cell_type": "code",
   "execution_count": 15,
   "id": "799a5f97-6f0c-4112-a79b-f3b2974a03e1",
   "metadata": {},
   "outputs": [
    {
     "data": {
      "text/plain": [
       "'coding'"
      ]
     },
     "execution_count": 15,
     "metadata": {},
     "output_type": "execute_result"
    }
   ],
   "source": [
    "d1['hobby'][2]"
   ]
  },
  {
   "cell_type": "code",
   "execution_count": 16,
   "id": "a9e5c704-b54a-4622-a650-10c2303cb03c",
   "metadata": {},
   "outputs": [
    {
     "data": {
      "text/plain": [
       "{'name': 'viral',\n",
       " 'number': '1234567890',\n",
       " 'hobby': ['cricket', 'chess', 'coding']}"
      ]
     },
     "execution_count": 16,
     "metadata": {},
     "output_type": "execute_result"
    }
   ],
   "source": [
    "d1"
   ]
  },
  {
   "cell_type": "code",
   "execution_count": 19,
   "id": "497f91c9-2678-4bfb-8fc6-e2f3d1617152",
   "metadata": {},
   "outputs": [],
   "source": [
    "d1['name'] = 'DarkKnight'"
   ]
  },
  {
   "cell_type": "code",
   "execution_count": 20,
   "id": "2208f7c4-29c3-45f9-9eed-e97aef350a6f",
   "metadata": {},
   "outputs": [
    {
     "data": {
      "text/plain": [
       "{'name': 'DarkKnight',\n",
       " 'number': '1234567890',\n",
       " 'hobby': ['cricket', 'chess', 'coding']}"
      ]
     },
     "execution_count": 20,
     "metadata": {},
     "output_type": "execute_result"
    }
   ],
   "source": [
    "d1"
   ]
  },
  {
   "cell_type": "code",
   "execution_count": 24,
   "id": "863ce46a-33c8-4379-8125-7fdbbcb3b209",
   "metadata": {},
   "outputs": [],
   "source": [
    "d1['hours'] = '5'"
   ]
  },
  {
   "cell_type": "code",
   "execution_count": 22,
   "id": "93c66ff2-e808-49d7-8389-7f9cbd5a85e5",
   "metadata": {},
   "outputs": [
    {
     "data": {
      "text/plain": [
       "{'name': 'DarkKnight',\n",
       " 'number': '1234567890',\n",
       " 'hobby': ['cricket', 'chess', 'coding'],\n",
       " 'hours ': '5'}"
      ]
     },
     "execution_count": 22,
     "metadata": {},
     "output_type": "execute_result"
    }
   ],
   "source": [
    "d1"
   ]
  },
  {
   "cell_type": "code",
   "execution_count": 26,
   "id": "3a7dc6ef-6fff-4958-bd75-c09477c3753e",
   "metadata": {},
   "outputs": [
    {
     "ename": "KeyError",
     "evalue": "'hours'",
     "output_type": "error",
     "traceback": [
      "\u001b[1;31m---------------------------------------------------------------------------\u001b[0m",
      "\u001b[1;31mKeyError\u001b[0m                                  Traceback (most recent call last)",
      "Cell \u001b[1;32mIn[26], line 1\u001b[0m\n\u001b[1;32m----> 1\u001b[0m \u001b[38;5;28;01mdel\u001b[39;00m \u001b[43md1\u001b[49m\u001b[43m[\u001b[49m\u001b[38;5;124;43m'\u001b[39;49m\u001b[38;5;124;43mhours\u001b[39;49m\u001b[38;5;124;43m'\u001b[39;49m\u001b[43m]\u001b[49m\n",
      "\u001b[1;31mKeyError\u001b[0m: 'hours'"
     ]
    }
   ],
   "source": [
    "del d1['hours']"
   ]
  },
  {
   "cell_type": "code",
   "execution_count": 27,
   "id": "fc267f9b-2939-42d9-9634-634cb12e4af0",
   "metadata": {},
   "outputs": [
    {
     "data": {
      "text/plain": [
       "{'name': 'DarkKnight',\n",
       " 'number': '1234567890',\n",
       " 'hobby': ['cricket', 'chess', 'coding'],\n",
       " 'hours ': '5'}"
      ]
     },
     "execution_count": 27,
     "metadata": {},
     "output_type": "execute_result"
    }
   ],
   "source": [
    "d1"
   ]
  },
  {
   "cell_type": "code",
   "execution_count": 29,
   "id": "164a86b6-c022-4891-bef5-9cf12d308bd2",
   "metadata": {},
   "outputs": [
    {
     "data": {
      "text/plain": [
       "dict_keys(['name', 'number', 'hobby', 'hours '])"
      ]
     },
     "execution_count": 29,
     "metadata": {},
     "output_type": "execute_result"
    }
   ],
   "source": [
    "d1.keys()"
   ]
  },
  {
   "cell_type": "code",
   "execution_count": 32,
   "id": "e1838e42-9727-4acb-8ef7-15dc55ac7a9d",
   "metadata": {},
   "outputs": [
    {
     "data": {
      "text/plain": [
       "dict_values(['DarkKnight', '1234567890', ['cricket', 'chess', 'coding'], '5'])"
      ]
     },
     "execution_count": 32,
     "metadata": {},
     "output_type": "execute_result"
    }
   ],
   "source": [
    "d1.values()"
   ]
  },
  {
   "cell_type": "code",
   "execution_count": 35,
   "id": "45e534d3-1000-43b7-b044-f38e059cd800",
   "metadata": {},
   "outputs": [
    {
     "data": {
      "text/plain": [
       "dict_items([('name', 'DarkKnight'), ('number', '1234567890'), ('hobby', ['cricket', 'chess', 'coding']), ('hours ', '5')])"
      ]
     },
     "execution_count": 35,
     "metadata": {},
     "output_type": "execute_result"
    }
   ],
   "source": [
    "d1.items()"
   ]
  },
  {
   "cell_type": "code",
   "execution_count": 37,
   "id": "e0b39c06-a197-4c18-a7e4-8efda94413d1",
   "metadata": {},
   "outputs": [
    {
     "data": {
      "text/plain": [
       "[('name', 'DarkKnight'),\n",
       " ('number', '1234567890'),\n",
       " ('hobby', ['cricket', 'chess', 'coding']),\n",
       " ('hours ', '5')]"
      ]
     },
     "execution_count": 37,
     "metadata": {},
     "output_type": "execute_result"
    }
   ],
   "source": [
    "list(d1.items())"
   ]
  }
 ],
 "metadata": {
  "kernelspec": {
   "display_name": "Python 3 (ipykernel)",
   "language": "python",
   "name": "python3"
  },
  "language_info": {
   "codemirror_mode": {
    "name": "ipython",
    "version": 3
   },
   "file_extension": ".py",
   "mimetype": "text/x-python",
   "name": "python",
   "nbconvert_exporter": "python",
   "pygments_lexer": "ipython3",
   "version": "3.13.2"
  }
 },
 "nbformat": 4,
 "nbformat_minor": 5
}

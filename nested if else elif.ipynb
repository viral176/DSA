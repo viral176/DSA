{
 "cells": [
  {
   "cell_type": "code",
   "execution_count": 8,
   "id": "d9652b90-cb37-437a-87a9-ef67384e58ba",
   "metadata": {},
   "outputs": [
    {
     "name": "stdin",
     "output_type": "stream",
     "text": [
      "Enter the numer 10\n"
     ]
    },
    {
     "name": "stdout",
     "output_type": "stream",
     "text": [
      "Number is Positive\n"
     ]
    }
   ],
   "source": [
    "a = int(input(\"Enter the number\")) \n",
    "if a>0:\n",
    "    print(\"Number is Positive\")\n",
    "elif a<0:\n",
    "    print(\"Number is Negetive\")\n",
    "else:\n",
    "    print(\"Number is zero\")"
   ]
  },
  {
   "cell_type": "code",
   "execution_count": 13,
   "id": "9ce7aaaf-ca5d-4222-b7c1-5328532049bd",
   "metadata": {},
   "outputs": [
    {
     "name": "stdin",
     "output_type": "stream",
     "text": [
      "Enter the number 11\n"
     ]
    },
    {
     "name": "stdout",
     "output_type": "stream",
     "text": [
      "this number is odd\n"
     ]
    }
   ],
   "source": [
    "n = int(input(\"Enter the number\")) \n",
    "if n%2 == 0:\n",
    "    if n == 0 :\n",
    "        print(\"this number is zero\")\n",
    "    else:\n",
    "        print(\"this number is Even\") \n",
    "else :\n",
    "    print(\"this number is odd\")"
   ]
  }
 ],
 "metadata": {
  "kernelspec": {
   "display_name": "Python 3 (ipykernel)",
   "language": "python",
   "name": "python3"
  },
  "language_info": {
   "codemirror_mode": {
    "name": "ipython",
    "version": 3
   },
   "file_extension": ".py",
   "mimetype": "text/x-python",
   "name": "python",
   "nbconvert_exporter": "python",
   "pygments_lexer": "ipython3",
   "version": "3.13.2"
  }
 },
 "nbformat": 4,
 "nbformat_minor": 5
}
